{
 "cells": [
  {
   "cell_type": "code",
   "execution_count": 6,
   "metadata": {
    "ExecuteTime": {
     "end_time": "2021-04-22T12:53:47.455635Z",
     "start_time": "2021-04-22T12:53:47.452232Z"
    }
   },
   "outputs": [],
   "source": [
    "from nlp.preprocessing import bert_jamo_spliter"
   ]
  },
  {
   "cell_type": "code",
   "execution_count": 7,
   "metadata": {
    "ExecuteTime": {
     "end_time": "2021-04-22T12:53:47.797420Z",
     "start_time": "2021-04-22T12:53:47.794895Z"
    }
   },
   "outputs": [],
   "source": [
    "encoded = bert_jamo_spliter.encode('이것은 테스트 123 abc')"
   ]
  },
  {
   "cell_type": "code",
   "execution_count": 8,
   "metadata": {
    "ExecuteTime": {
     "end_time": "2021-04-22T12:53:48.124291Z",
     "start_time": "2021-04-22T12:53:48.120840Z"
    }
   },
   "outputs": [
    {
     "data": {
      "text/plain": [
       "'ㅇㅣㄱㅓㅅㅇㅡㄴ ㅌㅔㅅㅡㅌㅡ 123 abc'"
      ]
     },
     "execution_count": 8,
     "metadata": {},
     "output_type": "execute_result"
    }
   ],
   "source": [
    "encoded"
   ]
  },
  {
   "cell_type": "code",
   "execution_count": 17,
   "metadata": {
    "ExecuteTime": {
     "end_time": "2021-04-22T13:51:13.949994Z",
     "start_time": "2021-04-22T13:51:13.947703Z"
    }
   },
   "outputs": [],
   "source": [
    "t = 'ㄱㄴㅇ'"
   ]
  },
  {
   "cell_type": "code",
   "execution_count": 21,
   "metadata": {
    "ExecuteTime": {
     "end_time": "2021-04-22T13:52:07.919440Z",
     "start_time": "2021-04-22T13:52:07.916481Z"
    }
   },
   "outputs": [],
   "source": [
    "def a(b, c, d):\n",
    "    print(c)"
   ]
  },
  {
   "cell_type": "code",
   "execution_count": 22,
   "metadata": {
    "ExecuteTime": {
     "end_time": "2021-04-22T13:52:08.255357Z",
     "start_time": "2021-04-22T13:52:08.252526Z"
    }
   },
   "outputs": [
    {
     "name": "stdout",
     "output_type": "stream",
     "text": [
      "ㄴ\n"
     ]
    }
   ],
   "source": [
    "a(*t)"
   ]
  },
  {
   "cell_type": "code",
   "execution_count": null,
   "metadata": {},
   "outputs": [],
   "source": []
  }
 ],
 "metadata": {
  "kernelspec": {
   "display_name": "Python 3",
   "language": "python",
   "name": "python3"
  },
  "language_info": {
   "codemirror_mode": {
    "name": "ipython",
    "version": 3
   },
   "file_extension": ".py",
   "mimetype": "text/x-python",
   "name": "python",
   "nbconvert_exporter": "python",
   "pygments_lexer": "ipython3",
   "version": "3.8.5"
  },
  "toc": {
   "base_numbering": 1,
   "nav_menu": {},
   "number_sections": false,
   "sideBar": true,
   "skip_h1_title": false,
   "title_cell": "Table of Contents",
   "title_sidebar": "Contents",
   "toc_cell": false,
   "toc_position": {},
   "toc_section_display": true,
   "toc_window_display": false
  }
 },
 "nbformat": 4,
 "nbformat_minor": 4
}
