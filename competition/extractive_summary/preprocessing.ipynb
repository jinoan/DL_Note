{
 "metadata": {
  "language_info": {
   "codemirror_mode": {
    "name": "ipython",
    "version": 3
   },
   "file_extension": ".py",
   "mimetype": "text/x-python",
   "name": "python",
   "nbconvert_exporter": "python",
   "pygments_lexer": "ipython3",
   "version": "3.8.5"
  },
  "orig_nbformat": 2,
  "kernelspec": {
   "name": "python385jvsc74a57bd031f2aee4e71d21fbe5cf8b01ff0e069b9275f58929596ceb00d14d90e3e16cd6",
   "display_name": "Python 3.8.5 64-bit"
  },
  "metadata": {
   "interpreter": {
    "hash": "31f2aee4e71d21fbe5cf8b01ff0e069b9275f58929596ceb00d14d90e3e16cd6"
   }
  }
 },
 "nbformat": 4,
 "nbformat_minor": 2,
 "cells": [
  {
   "cell_type": "code",
   "execution_count": 1,
   "metadata": {},
   "outputs": [],
   "source": [
    "import os\n",
    "import sys\n",
    "sys.path.append(os.path.abspath(os.path.join(\"..\", \"..\")))\n",
    "from nlp.preprocessing import hg_encoder\n",
    "import json"
   ]
  },
  {
   "cell_type": "code",
   "execution_count": 3,
   "metadata": {
    "tags": []
   },
   "outputs": [
    {
     "output_type": "stream",
     "name": "stdout",
     "text": [
      "█data size: 1\n"
     ]
    }
   ],
   "source": [
    "r = open(\"../../datasets/extractive_summary/train.jsonl\", \"r\", encoding=\"utf8\")\n",
    "w = open(\"../../datasets/extractive_summary/train_hg.json\", \"a\", encoding=\"utf8\")\n",
    "c = open(\"../../datasets/extractive_summary/collection.txt\", \"a\", encoding=\"utf8\")\n",
    "try:\n",
    "    count = 0\n",
    "    # while True:\n",
    "    line = r.readline()\n",
    "    # if not line: break\n",
    "    count += 1\n",
    "    line = json.loads(line)\n",
    "    for i, s in enumerate(line[\"article_original\"]):\n",
    "        line[\"article_original\"][i] = hg_encoder.encode(s)\n",
    "        c.write(line[\"article_original\"][i] + \"\\n\")\n",
    "    line[\"abstractive\"] = hg_encoder.encode(line[\"abstractive\"])\n",
    "    c.write(line[\"abstractive\"] + \"\\n\")\n",
    "    w.write(json.dumps(line, ensure_ascii=False))\n",
    "    if count % 100 == 0:\n",
    "        print(f\"█{count}\")\n",
    "    else:\n",
    "        print(\"█\", end=\"\")\n",
    "    print(f\"data size: {count}\")\n",
    "except Exception as e:\n",
    "    raise e\n",
    "finally:\n",
    "    r.close()\n",
    "    w.close()\n",
    "    c.close()"
   ]
  },
  {
   "cell_type": "code",
   "execution_count": 10,
   "metadata": {},
   "outputs": [
    {
     "output_type": "execute_result",
     "data": {
      "text/plain": [
       "''"
      ]
     },
     "metadata": {},
     "execution_count": 10
    }
   ],
   "source": [
    "line"
   ]
  },
  {
   "cell_type": "code",
   "execution_count": null,
   "metadata": {},
   "outputs": [],
   "source": []
  }
 ]
}